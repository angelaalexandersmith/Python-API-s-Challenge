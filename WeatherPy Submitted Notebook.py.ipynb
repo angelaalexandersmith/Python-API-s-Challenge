{
 "cells": [
  {
   "cell_type": "markdown",
   "metadata": {},
   "source": [
    "# WeatherPy\n",
    "----\n",
    "\n",
    "#### Note\n",
    "* Instructions have been included for each segment. You do not have to follow them exactly, but they are included to help you think through the steps."
   ]
  },
  {
   "cell_type": "code",
   "execution_count": 1,
   "metadata": {},
   "outputs": [
    {
     "name": "stdout",
     "output_type": "stream",
     "text": [
      "Requirement already satisfied: citipy in c:\\users\\angel\\anaconda4\\envs\\pythondata\\lib\\site-packages (0.0.5)\n",
      "Requirement already satisfied: kdtree>=0.12 in c:\\users\\angel\\anaconda4\\envs\\pythondata\\lib\\site-packages (from citipy) (0.16)\n",
      "Note: you may need to restart the kernel to use updated packages.\n"
     ]
    }
   ],
   "source": [
    "pip install citipy"
   ]
  },
  {
   "cell_type": "code",
   "execution_count": 2,
   "metadata": {
    "scrolled": true
   },
   "outputs": [],
   "source": [
    "# Dependencies and Setup\n",
    "import matplotlib.pyplot as plt\n",
    "import pandas as pd\n",
    "import numpy as np\n",
    "import requests\n",
    "import time\n",
    "import scipy.stats as st\n",
    "from scipy.stats import linregress\n",
    "\n",
    "\n",
    "import json\n",
    "import csv\n",
    "import os\n",
    "from datetime import datetime, timedelta\n",
    "\n",
    "# Import API key\n",
    "from api_keys import weather_api_key\n",
    "\n",
    "# Incorporated citipy to determine city based on latitude and longitude\n",
    "from citipy import citipy\n",
    "\n",
    "# Output File (CSV)\n",
    "output_data_file = \"../output_data/cities.csv\"\n",
    "\n",
    "# Range of latitudes and longitudes\n",
    "lat_range = (-90, 90)\n",
    "lng_range = (-180, 180)"
   ]
  },
  {
   "cell_type": "markdown",
   "metadata": {},
   "source": [
    "## Generate Cities List"
   ]
  },
  {
   "cell_type": "code",
   "execution_count": 3,
   "metadata": {},
   "outputs": [
    {
     "data": {
      "text/plain": [
       "628"
      ]
     },
     "execution_count": 3,
     "metadata": {},
     "output_type": "execute_result"
    }
   ],
   "source": [
    "# List for holding lat_lngs and cities\n",
    "## Create a list of cities for a set of random latitude and longtitude\n",
    "\n",
    "# List for holding lat_lngs and cities\n",
    "lat_lngs = []\n",
    "cities = []\n",
    "\n",
    "# Create a set of random lat and lng combinations\n",
    "lats = np.random.uniform(lat_range[0], lat_range[1], size=1500)\n",
    "lngs = np.random.uniform(lng_range[0], lng_range[1], size=1500)\n",
    "lat_lngs = zip(lats, lngs)\n",
    "\n",
    "# Identify nearest city for each lat, lng combination\n",
    "for lat_lng in lat_lngs:\n",
    "    city = citipy.nearest_city(lat_lng[0], lat_lng[1]).city_name\n",
    "    \n",
    "    # If the city is unique, then add it to a our cities list\n",
    "    if city not in cities:\n",
    "        cities.append(city)\n",
    "\n",
    "# Print the city count to confirm sufficient count\n",
    "len(cities)"
   ]
  },
  {
   "cell_type": "markdown",
   "metadata": {},
   "source": [
    "### Perform API Calls\n",
    "* Perform a weather check on each city using a series of successive API calls.\n",
    "* Include a print log of each city as it's being processed (with the city number and city name).\n"
   ]
  },
  {
   "cell_type": "code",
   "execution_count": 4,
   "metadata": {},
   "outputs": [
    {
     "name": "stdout",
     "output_type": "stream",
     "text": [
      "Beginning Data Retrieval\n",
      "-----------------------------\n",
      "Processing Record 0 of Set 1 | punta arenas\n",
      "Processing Record 1 of Set 1 | harper\n",
      "Processing Record 2 of Set 1 | presidencia roque saenz pena\n",
      "City sentyabrskiy not found. Skipping...\n",
      "Processing Record 3 of Set 1 | fortuna\n",
      "Processing Record 4 of Set 1 | tuatapere\n",
      "Processing Record 5 of Set 1 | bangarapet\n",
      "Processing Record 6 of Set 1 | khatanga\n",
      "Processing Record 7 of Set 1 | radom\n",
      "City grand river south east not found. Skipping...\n",
      "Processing Record 8 of Set 1 | thompson\n",
      "Processing Record 9 of Set 1 | rikitea\n",
      "Processing Record 10 of Set 1 | puerto ayora\n",
      "Processing Record 11 of Set 1 | salalah\n",
      "Processing Record 12 of Set 1 | karabulak\n",
      "Processing Record 13 of Set 1 | san quintin\n",
      "Processing Record 14 of Set 1 | bilma\n",
      "City tumannyy not found. Skipping...\n",
      "City barentsburg not found. Skipping...\n",
      "City warqla not found. Skipping...\n",
      "Processing Record 15 of Set 1 | kroya\n",
      "Processing Record 16 of Set 1 | castro\n",
      "Processing Record 17 of Set 1 | jamestown\n",
      "Processing Record 18 of Set 1 | takhtamygda\n",
      "Processing Record 19 of Set 1 | new norfolk\n",
      "Processing Record 20 of Set 1 | bluff\n",
      "Processing Record 21 of Set 1 | faya\n",
      "Processing Record 22 of Set 1 | chuy\n",
      "Processing Record 23 of Set 1 | busselton\n",
      "Processing Record 24 of Set 1 | port alfred\n",
      "Processing Record 25 of Set 1 | ushuaia\n",
      "Processing Record 26 of Set 1 | butaritari\n",
      "Processing Record 27 of Set 1 | hilo\n",
      "Processing Record 28 of Set 1 | ribeira grande\n",
      "Processing Record 29 of Set 1 | constitucion\n",
      "Processing Record 30 of Set 1 | russell\n",
      "Processing Record 31 of Set 1 | qurayyat\n",
      "Processing Record 32 of Set 1 | athabasca\n",
      "Processing Record 33 of Set 1 | klaksvik\n",
      "Processing Record 34 of Set 1 | mogadishu\n",
      "Processing Record 35 of Set 1 | nome\n",
      "Processing Record 36 of Set 1 | pinega\n",
      "Processing Record 37 of Set 1 | torbay\n",
      "Processing Record 38 of Set 1 | arraial do cabo\n",
      "City naugarzan not found. Skipping...\n",
      "Processing Record 39 of Set 1 | clyde river\n",
      "Processing Record 40 of Set 1 | namibe\n",
      "Processing Record 41 of Set 1 | komsomolskiy\n",
      "Processing Record 42 of Set 1 | hermanus\n",
      "Processing Record 43 of Set 1 | kahului\n",
      "Processing Record 44 of Set 1 | hobart\n",
      "Processing Record 45 of Set 1 | fort nelson\n",
      "Processing Record 46 of Set 1 | sitka\n",
      "Processing Record 47 of Set 1 | port elizabeth\n",
      "Processing Record 48 of Set 1 | gardner\n",
      "Processing Record 49 of Set 1 | sao filipe\n",
      "Processing Record 0 of Set 2 | tondon\n",
      "Processing Record 1 of Set 2 | kodiak\n",
      "Processing Record 2 of Set 2 | portland\n",
      "Processing Record 3 of Set 2 | the pas\n",
      "City attawapiskat not found. Skipping...\n",
      "Processing Record 4 of Set 2 | atuona\n",
      "Processing Record 5 of Set 2 | moro\n",
      "Processing Record 6 of Set 2 | albany\n",
      "City taolanaro not found. Skipping...\n",
      "Processing Record 7 of Set 2 | san rafael\n",
      "City illoqqortoormiut not found. Skipping...\n",
      "Processing Record 8 of Set 2 | srivardhan\n",
      "Processing Record 9 of Set 2 | vrangel\n",
      "Processing Record 10 of Set 2 | stromness\n",
      "Processing Record 11 of Set 2 | methoni\n",
      "Processing Record 12 of Set 2 | moose factory\n",
      "Processing Record 13 of Set 2 | mindelo\n",
      "Processing Record 14 of Set 2 | barrow\n",
      "Processing Record 15 of Set 2 | cayenne\n",
      "Processing Record 16 of Set 2 | coquimbo\n",
      "Processing Record 17 of Set 2 | pochutla\n",
      "Processing Record 18 of Set 2 | vila velha\n",
      "Processing Record 19 of Set 2 | saint-augustin\n",
      "City skalistyy not found. Skipping...\n",
      "Processing Record 20 of Set 2 | katsuura\n",
      "Processing Record 21 of Set 2 | sao joao da barra\n",
      "Processing Record 22 of Set 2 | yellowknife\n",
      "Processing Record 23 of Set 2 | sorong\n",
      "City amderma not found. Skipping...\n",
      "Processing Record 24 of Set 2 | victoria\n",
      "Processing Record 25 of Set 2 | kununurra\n",
      "Processing Record 26 of Set 2 | lagoa\n",
      "Processing Record 27 of Set 2 | avarua\n",
      "Processing Record 28 of Set 2 | mar del plata\n",
      "Processing Record 29 of Set 2 | zeya\n",
      "Processing Record 30 of Set 2 | kaitangata\n",
      "Processing Record 31 of Set 2 | severo-kurilsk\n",
      "Processing Record 32 of Set 2 | bambous virieux\n",
      "Processing Record 33 of Set 2 | dikson\n",
      "Processing Record 34 of Set 2 | vaini\n",
      "Processing Record 35 of Set 2 | nemuro\n",
      "Processing Record 36 of Set 2 | zyryanka\n",
      "Processing Record 37 of Set 2 | east london\n",
      "Processing Record 38 of Set 2 | saskylakh\n",
      "Processing Record 39 of Set 2 | hirara\n",
      "City sapao not found. Skipping...\n",
      "Processing Record 40 of Set 2 | rocha\n",
      "Processing Record 41 of Set 2 | caravelas\n",
      "Processing Record 42 of Set 2 | lithgow\n",
      "Processing Record 43 of Set 2 | san patricio\n",
      "Processing Record 44 of Set 2 | altea\n",
      "Processing Record 45 of Set 2 | isangel\n",
      "Processing Record 46 of Set 2 | tuktoyaktuk\n",
      "Processing Record 47 of Set 2 | geraldton\n",
      "Processing Record 48 of Set 2 | kapaa\n",
      "Processing Record 49 of Set 2 | puerto carreno\n",
      "Processing Record 0 of Set 3 | krasnoselkup\n",
      "Processing Record 1 of Set 3 | mahebourg\n",
      "Processing Record 2 of Set 3 | raudeberg\n",
      "Processing Record 3 of Set 3 | grand gaube\n",
      "Processing Record 4 of Set 3 | carnarvon\n",
      "Processing Record 5 of Set 3 | waipawa\n",
      "Processing Record 6 of Set 3 | alice springs\n",
      "City labutta not found. Skipping...\n",
      "City juifang not found. Skipping...\n",
      "Processing Record 7 of Set 3 | olafsvik\n",
      "Processing Record 8 of Set 3 | bredasdorp\n",
      "Processing Record 9 of Set 3 | polovinnoye\n",
      "Processing Record 10 of Set 3 | newport\n",
      "Processing Record 11 of Set 3 | dingle\n",
      "Processing Record 12 of Set 3 | mizdah\n",
      "Processing Record 13 of Set 3 | haines junction\n",
      "Processing Record 14 of Set 3 | pevek\n",
      "Processing Record 15 of Set 3 | kaeng khoi\n",
      "City kazalinsk not found. Skipping...\n",
      "Processing Record 16 of Set 3 | tongliao\n",
      "Processing Record 17 of Set 3 | roma\n",
      "Processing Record 18 of Set 3 | mataura\n",
      "Processing Record 19 of Set 3 | hithadhoo\n",
      "City makung not found. Skipping...\n",
      "Processing Record 20 of Set 3 | samarai\n",
      "Processing Record 21 of Set 3 | manzini\n",
      "Processing Record 22 of Set 3 | upernavik\n",
      "Processing Record 23 of Set 3 | hami\n",
      "Processing Record 24 of Set 3 | airai\n",
      "Processing Record 25 of Set 3 | saint george\n",
      "Processing Record 26 of Set 3 | mayor pablo lagerenza\n",
      "City tsihombe not found. Skipping...\n",
      "Processing Record 27 of Set 3 | zhigansk\n",
      "Processing Record 28 of Set 3 | shache\n",
      "Processing Record 29 of Set 3 | port blair\n",
      "Processing Record 30 of Set 3 | kostomuksha\n",
      "Processing Record 31 of Set 3 | scottsbluff\n",
      "Processing Record 32 of Set 3 | isla mujeres\n",
      "Processing Record 33 of Set 3 | tiksi\n",
      "City sulurpeta not found. Skipping...\n",
      "Processing Record 34 of Set 3 | dauphin\n",
      "Processing Record 35 of Set 3 | tessalit\n",
      "Processing Record 36 of Set 3 | suicheng\n",
      "Processing Record 37 of Set 3 | narsaq\n",
      "Processing Record 38 of Set 3 | westport\n",
      "Processing Record 39 of Set 3 | koslan\n",
      "Processing Record 40 of Set 3 | omsukchan\n",
      "Processing Record 41 of Set 3 | aberdeen\n",
      "Processing Record 42 of Set 3 | kamaishi\n",
      "Processing Record 43 of Set 3 | mount gambier\n",
      "Processing Record 44 of Set 3 | bethel\n",
      "Processing Record 45 of Set 3 | senneterre\n",
      "City toliary not found. Skipping...\n",
      "Processing Record 46 of Set 3 | monreale\n",
      "Processing Record 47 of Set 3 | hasaki\n",
      "Processing Record 48 of Set 3 | belmonte\n",
      "Processing Record 49 of Set 3 | grindavik\n",
      "Processing Record 0 of Set 4 | qaanaaq\n",
      "Processing Record 1 of Set 4 | liuzhou\n",
      "City tunduru not found. Skipping...\n",
      "Processing Record 2 of Set 4 | siocon\n",
      "City belushya guba not found. Skipping...\n",
      "Processing Record 3 of Set 4 | plettenberg bay\n",
      "Processing Record 4 of Set 4 | yerbogachen\n",
      "Processing Record 5 of Set 4 | mareeba\n",
      "Processing Record 6 of Set 4 | lebu\n",
      "City buqayq not found. Skipping...\n",
      "Processing Record 7 of Set 4 | kupang\n",
      "City saleaula not found. Skipping...\n",
      "Processing Record 8 of Set 4 | longyearbyen\n",
      "Processing Record 9 of Set 4 | bathsheba\n",
      "Processing Record 10 of Set 4 | lisala\n",
      "Processing Record 11 of Set 4 | tateyama\n",
      "Processing Record 12 of Set 4 | aswan\n",
      "City falealupo not found. Skipping...\n",
      "Processing Record 13 of Set 4 | talnakh\n",
      "Processing Record 14 of Set 4 | buchs\n",
      "Processing Record 15 of Set 4 | alberton\n",
      "Processing Record 16 of Set 4 | deputatskiy\n",
      "City mentok not found. Skipping...\n",
      "Processing Record 17 of Set 4 | plovdiv\n",
      "City mys shmidta not found. Skipping...\n",
      "Processing Record 18 of Set 4 | coihaique\n",
      "Processing Record 19 of Set 4 | nioki\n",
      "Processing Record 20 of Set 4 | brae\n",
      "Processing Record 21 of Set 4 | vung tau\n",
      "Processing Record 22 of Set 4 | sabinopolis\n",
      "Processing Record 23 of Set 4 | horizonte\n"
     ]
    },
    {
     "name": "stdout",
     "output_type": "stream",
     "text": [
      "Processing Record 24 of Set 4 | provideniya\n",
      "Processing Record 25 of Set 4 | rabaul\n",
      "Processing Record 26 of Set 4 | flinders\n",
      "Processing Record 27 of Set 4 | bikin\n",
      "Processing Record 28 of Set 4 | saldanha\n",
      "City kamenskoye not found. Skipping...\n",
      "Processing Record 29 of Set 4 | kruisfontein\n",
      "Processing Record 30 of Set 4 | kavieng\n",
      "Processing Record 31 of Set 4 | hambantota\n",
      "Processing Record 32 of Set 4 | edson\n",
      "Processing Record 33 of Set 4 | goure\n",
      "Processing Record 34 of Set 4 | riohacha\n",
      "Processing Record 35 of Set 4 | gaoual\n",
      "Processing Record 36 of Set 4 | liverpool\n",
      "Processing Record 37 of Set 4 | ulladulla\n",
      "Processing Record 38 of Set 4 | shebunino\n",
      "Processing Record 39 of Set 4 | manavalakurichi\n",
      "Processing Record 40 of Set 4 | sola\n",
      "Processing Record 41 of Set 4 | nova serrana\n",
      "Processing Record 42 of Set 4 | codrington\n",
      "Processing Record 43 of Set 4 | le pradet\n",
      "Processing Record 44 of Set 4 | nanortalik\n",
      "Processing Record 45 of Set 4 | tubigan\n",
      "Processing Record 46 of Set 4 | itagiba\n",
      "Processing Record 47 of Set 4 | udachnyy\n",
      "Processing Record 48 of Set 4 | dalby\n",
      "Processing Record 49 of Set 4 | bachatskiy\n",
      "Processing Record 0 of Set 5 | ponta do sol\n",
      "Processing Record 1 of Set 5 | vao\n",
      "Processing Record 2 of Set 5 | miyata\n",
      "Processing Record 3 of Set 5 | witu\n",
      "Processing Record 4 of Set 5 | kuching\n",
      "Processing Record 5 of Set 5 | havelock\n",
      "City karakendzha not found. Skipping...\n",
      "Processing Record 6 of Set 5 | san cristobal\n",
      "Processing Record 7 of Set 5 | lyubech\n",
      "Processing Record 8 of Set 5 | akyab\n",
      "Processing Record 9 of Set 5 | hagere hiywet\n",
      "Processing Record 10 of Set 5 | sabang\n",
      "Processing Record 11 of Set 5 | mitsamiouli\n",
      "Processing Record 12 of Set 5 | mago\n",
      "Processing Record 13 of Set 5 | ilulissat\n",
      "Processing Record 14 of Set 5 | changde\n",
      "Processing Record 15 of Set 5 | coahuayana\n",
      "Processing Record 16 of Set 5 | inverness\n",
      "Processing Record 17 of Set 5 | altay\n",
      "Processing Record 18 of Set 5 | cerea\n",
      "Processing Record 19 of Set 5 | alofi\n",
      "Processing Record 20 of Set 5 | wanxian\n",
      "Processing Record 21 of Set 5 | kaeo\n",
      "Processing Record 22 of Set 5 | jonesboro\n",
      "Processing Record 23 of Set 5 | kalmunai\n",
      "Processing Record 24 of Set 5 | yar-sale\n",
      "Processing Record 25 of Set 5 | biscarrosse\n",
      "Processing Record 26 of Set 5 | beloha\n",
      "City skagastrond not found. Skipping...\n",
      "Processing Record 27 of Set 5 | ust-maya\n",
      "Processing Record 28 of Set 5 | chokurdakh\n",
      "Processing Record 29 of Set 5 | cockburn town\n",
      "Processing Record 30 of Set 5 | imbituba\n",
      "Processing Record 31 of Set 5 | panzhihua\n",
      "Processing Record 32 of Set 5 | tigil\n",
      "Processing Record 33 of Set 5 | touba\n",
      "Processing Record 34 of Set 5 | nikolskoye\n",
      "Processing Record 35 of Set 5 | calabozo\n",
      "Processing Record 36 of Set 5 | baracoa\n",
      "Processing Record 37 of Set 5 | nakhon nayok\n",
      "Processing Record 38 of Set 5 | saint-philippe\n",
      "Processing Record 39 of Set 5 | port lincoln\n",
      "Processing Record 40 of Set 5 | rojhan\n",
      "Processing Record 41 of Set 5 | thinadhoo\n",
      "Processing Record 42 of Set 5 | namwala\n",
      "Processing Record 43 of Set 5 | kolosovka\n",
      "Processing Record 44 of Set 5 | houma\n",
      "Processing Record 45 of Set 5 | cherskiy\n",
      "City palabuhanratu not found. Skipping...\n",
      "City samusu not found. Skipping...\n",
      "Processing Record 46 of Set 5 | iqaluit\n",
      "Processing Record 47 of Set 5 | margate\n",
      "Processing Record 48 of Set 5 | norman wells\n",
      "Processing Record 49 of Set 5 | biak\n",
      "City ksenyevka not found. Skipping...\n",
      "City vaitupu not found. Skipping...\n",
      "Processing Record 0 of Set 6 | tasiilaq\n",
      "Processing Record 1 of Set 6 | quballat\n",
      "Processing Record 2 of Set 6 | lavrentiya\n",
      "Processing Record 3 of Set 6 | martapura\n",
      "Processing Record 4 of Set 6 | georgetown\n",
      "City jiddah not found. Skipping...\n",
      "Processing Record 5 of Set 6 | masallatah\n",
      "Processing Record 6 of Set 6 | mehriz\n",
      "Processing Record 7 of Set 6 | elverum\n",
      "Processing Record 8 of Set 6 | san lawrenz\n",
      "Processing Record 9 of Set 6 | loikaw\n",
      "City khonuu not found. Skipping...\n",
      "Processing Record 10 of Set 6 | cape town\n",
      "Processing Record 11 of Set 6 | tautira\n",
      "Processing Record 12 of Set 6 | bandrele\n",
      "Processing Record 13 of Set 6 | shubarkuduk\n",
      "Processing Record 14 of Set 6 | ust-ishim\n",
      "Processing Record 15 of Set 6 | cidreira\n",
      "Processing Record 16 of Set 6 | axim\n",
      "Processing Record 17 of Set 6 | shenjiamen\n",
      "Processing Record 18 of Set 6 | carauari\n",
      "Processing Record 19 of Set 6 | zamora\n",
      "City nizhneyansk not found. Skipping...\n",
      "Processing Record 20 of Set 6 | seydi\n",
      "Processing Record 21 of Set 6 | herat\n",
      "Processing Record 22 of Set 6 | lompoc\n",
      "Processing Record 23 of Set 6 | faanui\n",
      "Processing Record 24 of Set 6 | mitchell\n",
      "Processing Record 25 of Set 6 | hofn\n",
      "Processing Record 26 of Set 6 | natitingou\n",
      "Processing Record 27 of Set 6 | prainha\n",
      "Processing Record 28 of Set 6 | konde\n",
      "City bolungarvik not found. Skipping...\n",
      "Processing Record 29 of Set 6 | naze\n",
      "City burica not found. Skipping...\n",
      "Processing Record 30 of Set 6 | puerto del rosario\n",
      "Processing Record 31 of Set 6 | luis correia\n",
      "Processing Record 32 of Set 6 | souillac\n",
      "Processing Record 33 of Set 6 | paamiut\n",
      "Processing Record 34 of Set 6 | raipur\n",
      "Processing Record 35 of Set 6 | kiunga\n",
      "Processing Record 36 of Set 6 | dolores\n",
      "Processing Record 37 of Set 6 | bara\n",
      "Processing Record 38 of Set 6 | oum hadjer\n",
      "Processing Record 39 of Set 6 | santiago del estero\n",
      "City tawnat not found. Skipping...\n",
      "Processing Record 40 of Set 6 | sioux lookout\n",
      "Processing Record 41 of Set 6 | tocopilla\n",
      "Processing Record 42 of Set 6 | terrace bay\n",
      "Processing Record 43 of Set 6 | chase\n",
      "Processing Record 44 of Set 6 | luang prabang\n",
      "Processing Record 45 of Set 6 | vikhorevka\n",
      "Processing Record 46 of Set 6 | plaster rock\n",
      "City temaraia not found. Skipping...\n",
      "Processing Record 47 of Set 6 | honningsvag\n",
      "Processing Record 48 of Set 6 | along\n",
      "Processing Record 49 of Set 6 | anadyr\n",
      "City geresk not found. Skipping...\n",
      "Processing Record 0 of Set 7 | kawalu\n",
      "Processing Record 1 of Set 7 | la romana\n",
      "Processing Record 2 of Set 7 | lata\n",
      "Processing Record 3 of Set 7 | simao\n",
      "Processing Record 4 of Set 7 | banda aceh\n",
      "Processing Record 5 of Set 7 | plouzane\n",
      "Processing Record 6 of Set 7 | kindu\n",
      "Processing Record 7 of Set 7 | venado tuerto\n",
      "Processing Record 8 of Set 7 | bikaner\n",
      "Processing Record 9 of Set 7 | gamboma\n",
      "City meyungs not found. Skipping...\n",
      "Processing Record 10 of Set 7 | san francisco\n",
      "Processing Record 11 of Set 7 | meulaboh\n",
      "Processing Record 12 of Set 7 | college\n",
      "Processing Record 13 of Set 7 | pacific grove\n",
      "Processing Record 14 of Set 7 | kachug\n",
      "Processing Record 15 of Set 7 | huty\n",
      "Processing Record 16 of Set 7 | mahibadhoo\n",
      "Processing Record 17 of Set 7 | syracuse\n",
      "Processing Record 18 of Set 7 | krasnorechenskiy\n",
      "Processing Record 19 of Set 7 | bandarbeyla\n",
      "Processing Record 20 of Set 7 | ina\n",
      "Processing Record 21 of Set 7 | itoman\n",
      "Processing Record 22 of Set 7 | ewa beach\n",
      "Processing Record 23 of Set 7 | sheltozero\n",
      "Processing Record 24 of Set 7 | bryan\n",
      "Processing Record 25 of Set 7 | ndola\n",
      "Processing Record 26 of Set 7 | okhotsk\n",
      "Processing Record 27 of Set 7 | freeport\n",
      "Processing Record 28 of Set 7 | longyan\n",
      "Processing Record 29 of Set 7 | hazorasp\n",
      "Processing Record 30 of Set 7 | gornyye klyuchi\n",
      "Processing Record 31 of Set 7 | marinette\n",
      "Processing Record 32 of Set 7 | vanimo\n",
      "Processing Record 33 of Set 7 | sur\n",
      "Processing Record 34 of Set 7 | fort frances\n",
      "Processing Record 35 of Set 7 | paka\n",
      "City rawannawi not found. Skipping...\n",
      "Processing Record 36 of Set 7 | sokol\n",
      "Processing Record 37 of Set 7 | ambo\n",
      "Processing Record 38 of Set 7 | adre\n",
      "Processing Record 39 of Set 7 | tete\n",
      "City barawe not found. Skipping...\n",
      "Processing Record 40 of Set 7 | impfondo\n",
      "Processing Record 41 of Set 7 | buluang\n",
      "Processing Record 42 of Set 7 | prince rupert\n",
      "Processing Record 43 of Set 7 | ilebo\n",
      "City shpykiv not found. Skipping...\n",
      "Processing Record 44 of Set 7 | liuhe\n",
      "Processing Record 45 of Set 7 | pangoa\n",
      "Processing Record 46 of Set 7 | shakawe\n",
      "Processing Record 47 of Set 7 | minas\n",
      "Processing Record 48 of Set 7 | boksitogorsk\n",
      "Processing Record 49 of Set 7 | bourges\n",
      "Processing Record 0 of Set 8 | iquitos\n",
      "Processing Record 1 of Set 8 | mayo\n",
      "City halalo not found. Skipping...\n",
      "Processing Record 2 of Set 8 | shahrud\n",
      "Processing Record 3 of Set 8 | vestmannaeyjar\n",
      "Processing Record 4 of Set 8 | fairbanks\n",
      "Processing Record 5 of Set 8 | korla\n",
      "Processing Record 6 of Set 8 | alghero\n"
     ]
    },
    {
     "name": "stdout",
     "output_type": "stream",
     "text": [
      "Processing Record 7 of Set 8 | suba\n",
      "Processing Record 8 of Set 8 | sinnamary\n",
      "Processing Record 9 of Set 8 | helena\n",
      "City barbar not found. Skipping...\n",
      "Processing Record 10 of Set 8 | kendallville\n",
      "Processing Record 11 of Set 8 | berdigestyakh\n",
      "Processing Record 12 of Set 8 | ostrovnoy\n",
      "Processing Record 13 of Set 8 | sembakung\n",
      "Processing Record 14 of Set 8 | tiarei\n",
      "Processing Record 15 of Set 8 | pangnirtung\n",
      "Processing Record 16 of Set 8 | charters towers\n",
      "Processing Record 17 of Set 8 | kailua\n",
      "Processing Record 18 of Set 8 | aracati\n",
      "Processing Record 19 of Set 8 | buckeye\n",
      "Processing Record 20 of Set 8 | ola\n",
      "Processing Record 21 of Set 8 | grajau\n",
      "Processing Record 22 of Set 8 | montepuez\n",
      "Processing Record 23 of Set 8 | yuncheng\n",
      "Processing Record 24 of Set 8 | saint-joseph\n",
      "Processing Record 25 of Set 8 | marzuq\n",
      "Processing Record 26 of Set 8 | southbridge\n",
      "Processing Record 27 of Set 8 | price\n",
      "City fianga not found. Skipping...\n",
      "Processing Record 28 of Set 8 | chotila\n",
      "Processing Record 29 of Set 8 | bamboo\n",
      "Processing Record 30 of Set 8 | fort-shevchenko\n",
      "Processing Record 31 of Set 8 | kommunar\n",
      "City wahran not found. Skipping...\n",
      "Processing Record 32 of Set 8 | blatna\n",
      "City qafsah not found. Skipping...\n",
      "Processing Record 33 of Set 8 | nago\n",
      "Processing Record 34 of Set 8 | swan hill\n",
      "Processing Record 35 of Set 8 | marawi\n",
      "Processing Record 36 of Set 8 | ullapool\n",
      "Processing Record 37 of Set 8 | santa fe\n",
      "Processing Record 38 of Set 8 | leresti\n",
      "Processing Record 39 of Set 8 | ayan\n",
      "Processing Record 40 of Set 8 | bilibino\n",
      "City umzimvubu not found. Skipping...\n",
      "Processing Record 41 of Set 8 | lasa\n",
      "Processing Record 42 of Set 8 | ajdabiya\n",
      "Processing Record 43 of Set 8 | salinas\n",
      "Processing Record 44 of Set 8 | outlook\n",
      "Processing Record 45 of Set 8 | pemba\n",
      "Processing Record 46 of Set 8 | te anau\n",
      "Processing Record 47 of Set 8 | taoudenni\n",
      "Processing Record 48 of Set 8 | mehamn\n",
      "Processing Record 49 of Set 8 | nara\n",
      "Processing Record 0 of Set 9 | tutoia\n",
      "Processing Record 1 of Set 9 | pisco\n",
      "City urdzhar not found. Skipping...\n",
      "City andarab not found. Skipping...\n",
      "City marcona not found. Skipping...\n",
      "Processing Record 2 of Set 9 | high level\n",
      "Processing Record 3 of Set 9 | vendome\n",
      "City yuzhno-yeniseyskiy not found. Skipping...\n",
      "Processing Record 4 of Set 9 | broken hill\n",
      "Processing Record 5 of Set 9 | saint-francois\n",
      "Processing Record 6 of Set 9 | kristiinankaupunki\n",
      "Processing Record 7 of Set 9 | dunedin\n",
      "Processing Record 8 of Set 9 | madinat sittah uktubar\n",
      "Processing Record 9 of Set 9 | albury\n",
      "Processing Record 10 of Set 9 | praia da vitoria\n",
      "Processing Record 11 of Set 9 | sitio novo do tocantins\n",
      "Processing Record 12 of Set 9 | torit\n",
      "Processing Record 13 of Set 9 | noyabrsk\n",
      "Processing Record 14 of Set 9 | choma\n",
      "Processing Record 15 of Set 9 | kieta\n",
      "Processing Record 16 of Set 9 | zonguldak\n",
      "Processing Record 17 of Set 9 | tymovskoye\n",
      "Processing Record 18 of Set 9 | barcelos\n",
      "City guajara-mirim not found. Skipping...\n",
      "Processing Record 19 of Set 9 | hualmay\n",
      "Processing Record 20 of Set 9 | verkh-suetka\n",
      "Processing Record 21 of Set 9 | bintulu\n",
      "Processing Record 22 of Set 9 | general roca\n",
      "Processing Record 23 of Set 9 | eureka\n",
      "City viligili not found. Skipping...\n",
      "Processing Record 24 of Set 9 | yoichi\n",
      "Processing Record 25 of Set 9 | sungai besar\n",
      "Processing Record 26 of Set 9 | gizo\n",
      "Processing Record 27 of Set 9 | byron bay\n",
      "Processing Record 28 of Set 9 | bahia blanca\n",
      "Processing Record 29 of Set 9 | otse\n",
      "Processing Record 30 of Set 9 | ouricuri\n",
      "Processing Record 31 of Set 9 | manggar\n",
      "Processing Record 32 of Set 9 | antofagasta\n",
      "Processing Record 33 of Set 9 | manthani\n",
      "City artyk not found. Skipping...\n",
      "Processing Record 34 of Set 9 | tres arroyos\n",
      "City gurskoye not found. Skipping...\n",
      "Processing Record 35 of Set 9 | villazon\n",
      "Processing Record 36 of Set 9 | naron\n",
      "Processing Record 37 of Set 9 | xiaoweizhai\n",
      "Processing Record 38 of Set 9 | port hardy\n",
      "City kerki not found. Skipping...\n",
      "Processing Record 39 of Set 9 | kothi\n",
      "Processing Record 40 of Set 9 | baykit\n",
      "Processing Record 41 of Set 9 | araguari\n",
      "Processing Record 42 of Set 9 | pravda\n",
      "Processing Record 43 of Set 9 | repatriacion\n",
      "Processing Record 44 of Set 9 | japura\n",
      "Processing Record 45 of Set 9 | verkhnevilyuysk\n",
      "Processing Record 46 of Set 9 | buraydah\n",
      "Processing Record 47 of Set 9 | itaporanga\n",
      "Processing Record 48 of Set 9 | cabedelo\n",
      "City chagda not found. Skipping...\n",
      "Processing Record 49 of Set 9 | pasni\n",
      "Processing Record 0 of Set 10 | normandin\n",
      "Processing Record 1 of Set 10 | ray\n",
      "Processing Record 2 of Set 10 | vardo\n",
      "City solsvik not found. Skipping...\n",
      "Processing Record 3 of Set 10 | ghanzi\n",
      "Processing Record 4 of Set 10 | mao\n",
      "Processing Record 5 of Set 10 | yulara\n",
      "Processing Record 6 of Set 10 | buala\n",
      "Processing Record 7 of Set 10 | bonavista\n",
      "Processing Record 8 of Set 10 | schwarzenberg\n",
      "Processing Record 9 of Set 10 | vancouver\n",
      "Processing Record 10 of Set 10 | grande prairie\n",
      "Processing Record 11 of Set 10 | arnprior\n",
      "Processing Record 12 of Set 10 | bangui\n",
      "Processing Record 13 of Set 10 | naifaru\n",
      "Processing Record 14 of Set 10 | inhambane\n",
      "Processing Record 15 of Set 10 | winslow\n",
      "Processing Record 16 of Set 10 | noumea\n",
      "Processing Record 17 of Set 10 | piranshahr\n",
      "Processing Record 18 of Set 10 | skjervoy\n",
      "Processing Record 19 of Set 10 | inta\n",
      "Processing Record 20 of Set 10 | iquique\n",
      "Processing Record 21 of Set 10 | bengkulu\n",
      "Processing Record 22 of Set 10 | ganzhou\n",
      "Processing Record 23 of Set 10 | gemena\n",
      "Processing Record 24 of Set 10 | elizabeth city\n",
      "Processing Record 25 of Set 10 | groton\n",
      "Processing Record 26 of Set 10 | el rosario\n",
      "Processing Record 27 of Set 10 | neepawa\n",
      "Processing Record 28 of Set 10 | santo antonio do taua\n",
      "City rungata not found. Skipping...\n",
      "Processing Record 29 of Set 10 | urengoy\n",
      "Processing Record 30 of Set 10 | los llanos de aridane\n",
      "Processing Record 31 of Set 10 | daru\n",
      "Processing Record 32 of Set 10 | esperance\n",
      "Processing Record 33 of Set 10 | mitu\n",
      "Processing Record 34 of Set 10 | moindou\n",
      "Processing Record 35 of Set 10 | acapulco\n",
      "Processing Record 36 of Set 10 | shiraz\n",
      "Processing Record 37 of Set 10 | caninde\n",
      "Processing Record 38 of Set 10 | chapais\n",
      "Processing Record 39 of Set 10 | aksay\n",
      "Processing Record 40 of Set 10 | hovd\n",
      "Processing Record 41 of Set 10 | camargo\n",
      "Processing Record 42 of Set 10 | kavaratti\n",
      "Processing Record 43 of Set 10 | aviles\n",
      "City jubayl not found. Skipping...\n",
      "Processing Record 44 of Set 10 | yegorlykskaya\n",
      "City haibowan not found. Skipping...\n",
      "Processing Record 45 of Set 10 | amapa\n",
      "Processing Record 46 of Set 10 | necochea\n",
      "Processing Record 47 of Set 10 | omboue\n",
      "Processing Record 48 of Set 10 | atagay\n",
      "Processing Record 49 of Set 10 | northam\n",
      "Processing Record 0 of Set 11 | ust-nera\n",
      "Processing Record 1 of Set 11 | ingham\n",
      "Processing Record 2 of Set 11 | tura\n",
      "Processing Record 3 of Set 11 | ampanihy\n",
      "Processing Record 4 of Set 11 | bambanglipuro\n",
      "Processing Record 5 of Set 11 | staroye drozhzhanoye\n",
      "Processing Record 6 of Set 11 | valparaiso\n",
      "Processing Record 7 of Set 11 | tilichiki\n",
      "Processing Record 8 of Set 11 | atar\n",
      "Processing Record 9 of Set 11 | richards bay\n",
      "Processing Record 10 of Set 11 | namatanai\n",
      "Processing Record 11 of Set 11 | vangaindrano\n",
      "Processing Record 12 of Set 11 | slave lake\n",
      "Processing Record 13 of Set 11 | linden\n",
      "Processing Record 14 of Set 11 | vila franca do campo\n",
      "Processing Record 15 of Set 11 | merauke\n",
      "Processing Record 16 of Set 11 | teluknaga\n",
      "Processing Record 17 of Set 11 | kiama\n",
      "Processing Record 18 of Set 11 | hondo\n",
      "Processing Record 19 of Set 11 | figeac\n",
      "Processing Record 20 of Set 11 | saint anthony\n",
      "Processing Record 21 of Set 11 | sorland\n",
      "Processing Record 22 of Set 11 | waddan\n",
      "Processing Record 23 of Set 11 | yukhnov\n",
      "Processing Record 24 of Set 11 | rafaela\n",
      "Processing Record 25 of Set 11 | mokhsogollokh\n",
      "Processing Record 26 of Set 11 | kantunilkin\n",
      "Processing Record 27 of Set 11 | lensk\n",
      "Processing Record 28 of Set 11 | forio\n",
      "City doctor pedro p. pena not found. Skipping...\n",
      "Processing Record 29 of Set 11 | palmer\n",
      "Processing Record 30 of Set 11 | sisimiut\n",
      "Processing Record 31 of Set 11 | luanda\n",
      "Processing Record 32 of Set 11 | leningradskiy\n",
      "Processing Record 33 of Set 11 | cooma\n",
      "Processing Record 34 of Set 11 | mapiri\n",
      "Processing Record 35 of Set 11 | husavik\n",
      "City tarudant not found. Skipping...\n"
     ]
    },
    {
     "name": "stdout",
     "output_type": "stream",
     "text": [
      "Processing Record 36 of Set 11 | henties bay\n",
      "Processing Record 37 of Set 11 | kolaras\n",
      "Processing Record 38 of Set 11 | egvekinot\n",
      "Processing Record 39 of Set 11 | muros\n",
      "Processing Record 40 of Set 11 | pombia\n",
      "Processing Record 41 of Set 11 | guerrero negro\n",
      "Processing Record 42 of Set 11 | ober-ramstadt\n",
      "Processing Record 43 of Set 11 | nieuw amsterdam\n",
      "Processing Record 44 of Set 11 | vicuna\n",
      "Processing Record 45 of Set 11 | praya\n",
      "Processing Record 46 of Set 11 | synya\n",
      "Processing Record 47 of Set 11 | comodoro rivadavia\n",
      "Processing Record 48 of Set 11 | aitape\n",
      "Processing Record 49 of Set 11 | camana\n",
      "City azimur not found. Skipping...\n",
      "City malwan not found. Skipping...\n",
      "Processing Record 0 of Set 12 | lekoni\n",
      "Processing Record 1 of Set 12 | sangmelima\n",
      "Processing Record 2 of Set 12 | vilhena\n",
      "Processing Record 3 of Set 12 | maceio\n",
      "Processing Record 4 of Set 12 | namie\n",
      "Processing Record 5 of Set 12 | walvis bay\n",
      "Processing Record 6 of Set 12 | aykino\n",
      "Processing Record 7 of Set 12 | calbuco\n",
      "Processing Record 8 of Set 12 | asfi\n",
      "----------------------------- Data Retrieval Complete -----------------------------\n",
      "===================================================================================\n",
      "Total number of cities processed: 559\n",
      "Total number of cities skipped  : 69\n",
      "===================================================================================\n"
     ]
    }
   ],
   "source": [
    "# set up lists to hold reponse info\n",
    "data_city_name       = []\n",
    "data_city_latitude   = []\n",
    "data_city_longitude  = []\n",
    "data_max_temperature = []\n",
    "data_humidity        = []\n",
    "data_cloud_coverage  = []\n",
    "data_wind_speed      = []\n",
    "data_city_country    = []\n",
    "data_city_datetime   = []\n",
    "\n",
    "# Create the city counter and record set counter\n",
    "city_ctr           = 0\n",
    "set_ctr            = 1\n",
    "city_processed_ctr = 0\n",
    "city_skipped_ctr   = 0\n",
    "\n",
    "# Build the base URL to request for weather data\n",
    "url      = \"http://api.openweathermap.org/data/2.5/weather?\"\n",
    "units    = \"imperial\"\n",
    "url_base = f\"{url}appid={weather_api_key}&units={units}&q=\"\n",
    "\n",
    "print (\"Beginning Data Retrieval\")     \n",
    "print (\"-----------------------------\")\n",
    "for city in cities:\n",
    "\n",
    "    # Assemble the url\n",
    "    url_city = url_base + city\n",
    "    \n",
    "    # Retrieve the API data and format it into JSON \n",
    "    response = requests.get(url_city)\n",
    "    \n",
    "    # Save the data of each city\n",
    "    response_json = response.json()\n",
    "    \n",
    "    try:\n",
    "        \n",
    "        # Pause for 60 seconds every 50 records processed\n",
    "        if city_ctr > 49: \n",
    "            city_ctr = 0\n",
    "            set_ctr +=1\n",
    "            time.sleep(60) \n",
    "            \n",
    "        data_city_name.append      (response_json['name']              )    \n",
    "        data_city_latitude.append  (response_json['coord'] ['lat']     )\n",
    "        data_city_longitude.append (response_json['coord'] ['lon']     )\n",
    "        data_max_temperature.append(response_json['main']  ['temp_max'])\n",
    "        data_humidity.append       (response_json['main']  ['humidity'])  \n",
    "        data_cloud_coverage.append (response_json['clouds']['all']     )  \n",
    "        data_wind_speed.append     (response_json['wind']  ['speed']   )\n",
    "        data_city_country.append   (response_json['sys']   ['country'] )   \n",
    "        data_city_datetime.append  (response_json['dt']                )\n",
    "        \n",
    "        print (f\"Processing Record {city_ctr} of Set {set_ctr} | {city}\")\n",
    "        \n",
    "         # Accumulate the processed counters\n",
    "        city_ctr += 1\n",
    "        city_processed_ctr += 1\n",
    "        \n",
    "    except (KeyError, IndexError):\n",
    "        \n",
    "        # Skip city without API data\n",
    "        print (f\"City {city} not found. Skipping...\")\n",
    "        city_skipped_ctr   += 1\n",
    "        \n",
    "print (\"----------------------------- Data Retrieval Complete -----------------------------\")       \n",
    "print (\"===================================================================================\")        \n",
    "print (f\"Total number of cities processed: {city_processed_ctr}\")\n",
    "print (f\"Total number of cities skipped  : {city_skipped_ctr}\")\n",
    "print (\"===================================================================================\")  "
   ]
  },
  {
   "cell_type": "markdown",
   "metadata": {},
   "source": [
    "### Convert Raw Data to DataFrame\n",
    "* Export the city data into a .csv.\n",
    "* Display the DataFrame"
   ]
  },
  {
   "cell_type": "code",
   "execution_count": 5,
   "metadata": {},
   "outputs": [
    {
     "data": {
      "text/html": [
       "<div>\n",
       "<style scoped>\n",
       "    .dataframe tbody tr th:only-of-type {\n",
       "        vertical-align: middle;\n",
       "    }\n",
       "\n",
       "    .dataframe tbody tr th {\n",
       "        vertical-align: top;\n",
       "    }\n",
       "\n",
       "    .dataframe thead th {\n",
       "        text-align: right;\n",
       "    }\n",
       "</style>\n",
       "<table border=\"1\" class=\"dataframe\">\n",
       "  <thead>\n",
       "    <tr style=\"text-align: right;\">\n",
       "      <th></th>\n",
       "      <th>City</th>\n",
       "      <th>City latitude</th>\n",
       "      <th>City longitude</th>\n",
       "      <th>Max temperature</th>\n",
       "      <th>Humidity</th>\n",
       "      <th>Cloud coverage</th>\n",
       "      <th>Wind speed</th>\n",
       "      <th>City country</th>\n",
       "      <th>City datetime</th>\n",
       "    </tr>\n",
       "    <tr>\n",
       "      <th>City_ID</th>\n",
       "      <th></th>\n",
       "      <th></th>\n",
       "      <th></th>\n",
       "      <th></th>\n",
       "      <th></th>\n",
       "      <th></th>\n",
       "      <th></th>\n",
       "      <th></th>\n",
       "      <th></th>\n",
       "    </tr>\n",
       "  </thead>\n",
       "  <tbody>\n",
       "    <tr>\n",
       "      <th>0</th>\n",
       "      <td>Punta Arenas</td>\n",
       "      <td>-53.1500</td>\n",
       "      <td>-70.9167</td>\n",
       "      <td>30.31</td>\n",
       "      <td>86</td>\n",
       "      <td>0</td>\n",
       "      <td>8.05</td>\n",
       "      <td>CL</td>\n",
       "      <td>1660208147</td>\n",
       "    </tr>\n",
       "    <tr>\n",
       "      <th>1</th>\n",
       "      <td>Harper</td>\n",
       "      <td>4.3750</td>\n",
       "      <td>-7.7169</td>\n",
       "      <td>76.62</td>\n",
       "      <td>78</td>\n",
       "      <td>100</td>\n",
       "      <td>7.20</td>\n",
       "      <td>LR</td>\n",
       "      <td>1660207956</td>\n",
       "    </tr>\n",
       "    <tr>\n",
       "      <th>2</th>\n",
       "      <td>Presidencia Roque Sáenz Peña</td>\n",
       "      <td>-26.7852</td>\n",
       "      <td>-60.4388</td>\n",
       "      <td>45.03</td>\n",
       "      <td>96</td>\n",
       "      <td>94</td>\n",
       "      <td>5.35</td>\n",
       "      <td>AR</td>\n",
       "      <td>1660208148</td>\n",
       "    </tr>\n",
       "    <tr>\n",
       "      <th>3</th>\n",
       "      <td>Fortuna</td>\n",
       "      <td>40.5982</td>\n",
       "      <td>-124.1573</td>\n",
       "      <td>61.99</td>\n",
       "      <td>66</td>\n",
       "      <td>100</td>\n",
       "      <td>0.00</td>\n",
       "      <td>US</td>\n",
       "      <td>1660208150</td>\n",
       "    </tr>\n",
       "    <tr>\n",
       "      <th>4</th>\n",
       "      <td>Tuatapere</td>\n",
       "      <td>-46.1333</td>\n",
       "      <td>167.6833</td>\n",
       "      <td>35.33</td>\n",
       "      <td>90</td>\n",
       "      <td>7</td>\n",
       "      <td>3.67</td>\n",
       "      <td>NZ</td>\n",
       "      <td>1660208151</td>\n",
       "    </tr>\n",
       "    <tr>\n",
       "      <th>...</th>\n",
       "      <td>...</td>\n",
       "      <td>...</td>\n",
       "      <td>...</td>\n",
       "      <td>...</td>\n",
       "      <td>...</td>\n",
       "      <td>...</td>\n",
       "      <td>...</td>\n",
       "      <td>...</td>\n",
       "      <td>...</td>\n",
       "    </tr>\n",
       "    <tr>\n",
       "      <th>554</th>\n",
       "      <td>Namie</td>\n",
       "      <td>37.4833</td>\n",
       "      <td>141.0000</td>\n",
       "      <td>86.54</td>\n",
       "      <td>76</td>\n",
       "      <td>43</td>\n",
       "      <td>1.01</td>\n",
       "      <td>JP</td>\n",
       "      <td>1660209349</td>\n",
       "    </tr>\n",
       "    <tr>\n",
       "      <th>555</th>\n",
       "      <td>Walvis Bay</td>\n",
       "      <td>-22.9575</td>\n",
       "      <td>14.5053</td>\n",
       "      <td>49.15</td>\n",
       "      <td>100</td>\n",
       "      <td>0</td>\n",
       "      <td>4.61</td>\n",
       "      <td>NA</td>\n",
       "      <td>1660209350</td>\n",
       "    </tr>\n",
       "    <tr>\n",
       "      <th>556</th>\n",
       "      <td>Aykino</td>\n",
       "      <td>62.2248</td>\n",
       "      <td>49.9922</td>\n",
       "      <td>71.26</td>\n",
       "      <td>34</td>\n",
       "      <td>12</td>\n",
       "      <td>10.00</td>\n",
       "      <td>RU</td>\n",
       "      <td>1660209351</td>\n",
       "    </tr>\n",
       "    <tr>\n",
       "      <th>557</th>\n",
       "      <td>Calbuco</td>\n",
       "      <td>-41.7680</td>\n",
       "      <td>-73.1273</td>\n",
       "      <td>47.41</td>\n",
       "      <td>91</td>\n",
       "      <td>100</td>\n",
       "      <td>14.27</td>\n",
       "      <td>CL</td>\n",
       "      <td>1660209306</td>\n",
       "    </tr>\n",
       "    <tr>\n",
       "      <th>558</th>\n",
       "      <td>Safi</td>\n",
       "      <td>32.2994</td>\n",
       "      <td>-9.2372</td>\n",
       "      <td>72.63</td>\n",
       "      <td>72</td>\n",
       "      <td>2</td>\n",
       "      <td>10.40</td>\n",
       "      <td>MA</td>\n",
       "      <td>1660209352</td>\n",
       "    </tr>\n",
       "  </tbody>\n",
       "</table>\n",
       "<p>559 rows × 9 columns</p>\n",
       "</div>"
      ],
      "text/plain": [
       "                                 City  City latitude  City longitude  \\\n",
       "City_ID                                                                \n",
       "0                        Punta Arenas       -53.1500        -70.9167   \n",
       "1                              Harper         4.3750         -7.7169   \n",
       "2        Presidencia Roque Sáenz Peña       -26.7852        -60.4388   \n",
       "3                             Fortuna        40.5982       -124.1573   \n",
       "4                           Tuatapere       -46.1333        167.6833   \n",
       "...                               ...            ...             ...   \n",
       "554                             Namie        37.4833        141.0000   \n",
       "555                        Walvis Bay       -22.9575         14.5053   \n",
       "556                            Aykino        62.2248         49.9922   \n",
       "557                           Calbuco       -41.7680        -73.1273   \n",
       "558                              Safi        32.2994         -9.2372   \n",
       "\n",
       "         Max temperature  Humidity  Cloud coverage  Wind speed City country  \\\n",
       "City_ID                                                                       \n",
       "0                  30.31        86               0        8.05           CL   \n",
       "1                  76.62        78             100        7.20           LR   \n",
       "2                  45.03        96              94        5.35           AR   \n",
       "3                  61.99        66             100        0.00           US   \n",
       "4                  35.33        90               7        3.67           NZ   \n",
       "...                  ...       ...             ...         ...          ...   \n",
       "554                86.54        76              43        1.01           JP   \n",
       "555                49.15       100               0        4.61           NA   \n",
       "556                71.26        34              12       10.00           RU   \n",
       "557                47.41        91             100       14.27           CL   \n",
       "558                72.63        72               2       10.40           MA   \n",
       "\n",
       "         City datetime  \n",
       "City_ID                 \n",
       "0           1660208147  \n",
       "1           1660207956  \n",
       "2           1660208148  \n",
       "3           1660208150  \n",
       "4           1660208151  \n",
       "...                ...  \n",
       "554         1660209349  \n",
       "555         1660209350  \n",
       "556         1660209351  \n",
       "557         1660209306  \n",
       "558         1660209352  \n",
       "\n",
       "[559 rows x 9 columns]"
      ]
     },
     "execution_count": 5,
     "metadata": {},
     "output_type": "execute_result"
    }
   ],
   "source": [
    "# Convert the data to DataFrame\n",
    "city_df = pd.DataFrame({ \"City\"            : data_city_name\n",
    "                       , \"City latitude\"   : data_city_latitude\n",
    "                       , \"City longitude\"  : data_city_longitude\n",
    "                       , \"Max temperature\" : data_max_temperature\n",
    "                       , \"Humidity\"        : data_humidity\n",
    "                       , \"Cloud coverage\"  : data_cloud_coverage\n",
    "                       , \"Wind speed\"      : data_wind_speed\n",
    "                       , \"City country\"    : data_city_country\n",
    "                       , \"City datetime\"   : data_city_datetime\n",
    "                       })\n",
    "\n",
    "city_df.index.name = \"City_ID\"\n",
    "\n",
    "#Export the city data into a .csv. \n",
    "output_data_file = \"../output_data/cities.csv\"\n",
    "output_path      = os.path.join(output_data_file )\n",
    "city_df.to_csv(output_path,index=\"False\")\n",
    "\n",
    "city_df"
   ]
  },
  {
   "cell_type": "markdown",
   "metadata": {},
   "source": [
    "## Inspect the data and remove the cities where the humidity > 100%.\n",
    "----\n",
    "Skip this step if there are no cities that have humidity > 100%. "
   ]
  },
  {
   "cell_type": "code",
   "execution_count": 6,
   "metadata": {},
   "outputs": [
    {
     "data": {
      "text/plain": [
       "559"
      ]
     },
     "execution_count": 6,
     "metadata": {},
     "output_type": "execute_result"
    }
   ],
   "source": [
    "#  Get the indices of cities that have humidity over 100%.\n",
    "# Inspect the data and remove the cities where the humidity > 100%\n",
    "\n",
    "# check if there area cities where humidity > 100%\n",
    "count_cities_gt_100_humidities = len(city_df[(city_df[\"Humidity\"] > 100) ])\n",
    "\n",
    "if count_cities_gt_100_humidities  > 0:\n",
    "    print (f\"count_cities_gt_100_humidities: {count_cities_gt_100_humidities }\")\n",
    "\n",
    "# Remove the cities where the humidity > 100% \n",
    "clean_city_data = city_df.loc[ (city_df[\"Humidity\"] <= 100 ) \n",
    "                                     , :]\n",
    "len(clean_city_data)"
   ]
  },
  {
   "cell_type": "code",
   "execution_count": 7,
   "metadata": {},
   "outputs": [],
   "source": [
    "# Make a new DataFrame equal to the city data to drop all humidity outliers by index.\n",
    "# Passing \"inplace=False\" will make a copy of the city_data DataFrame, which we call \"clean_city_data\".\n"
   ]
  },
  {
   "cell_type": "code",
   "execution_count": 8,
   "metadata": {},
   "outputs": [
    {
     "data": {
      "text/plain": [
       "559"
      ]
     },
     "execution_count": 8,
     "metadata": {},
     "output_type": "execute_result"
    }
   ],
   "source": [
    "# Inspect the data and remove the cities where the humidity > 100%\n",
    "\n",
    "# check if there area cities where humidity > 100%\n",
    "count_cities_gt_100_humidities = len(city_df[(city_df[\"Humidity\"] > 100) ])\n",
    "\n",
    "if count_cities_gt_100_humidities  > 0:\n",
    "    print (f\"count_cities_gt_100_humidities: {count_cities_gt_100_humidities }\")\n",
    "\n",
    "# Remove the cities where the humidity > 100% \n",
    "clean_city_data = city_df.loc[ (city_df[\"Humidity\"] <= 100 ) \n",
    "                                     , :]\n",
    "len(clean_city_data)"
   ]
  },
  {
   "cell_type": "markdown",
   "metadata": {},
   "source": [
    "## Plotting the Data\n",
    "* Use proper labelling of the plots using plot titles (including date of analysis) and axes labels.\n",
    "* Save the plotted figures as .pngs."
   ]
  },
  {
   "cell_type": "markdown",
   "metadata": {},
   "source": [
    "## Latitude vs. Temperature Plot"
   ]
  },
  {
   "cell_type": "code",
   "execution_count": 9,
   "metadata": {},
   "outputs": [],
   "source": [
    "# Define a function to create scatter plot for Latitude vs. a given y_axis\n",
    "def create_scatter_plot(scatter_parms_dict):\n",
    "    \n",
    "    # Save the y_axis value\n",
    "    y_axis  = scatter_parms_dict.get(\"y_axis\")\n",
    "    ylabel  = scatter_parms_dict.get(\"ylabel\")\n",
    "    unit    = scatter_parms_dict.get(\"unit\")\n",
    "    outfile = scatter_parms_dict.get(\"outfile\")\n",
    "    \n",
    "    # Build a scatter plot for Latitude vs. a given y_axis\n",
    "    x_axis = clean_city_data[\"City latitude\"]\n",
    "    \n",
    "    plt.scatter ( x_axis\n",
    "                , y_axis\n",
    "                , marker=\"o\"\n",
    "                )\n",
    "\n",
    "    # Incorporate the other graph properties\n",
    "    xlabel = \"Latitude\"\n",
    "\n",
    "    plt.title  (f\"{xlabel} vs. {ylabel} \")\n",
    "    plt.ylabel (f\"{ylabel} {unit}\")\n",
    "    plt.xlabel (f\"{xlabel}\")\n",
    "    plt.grid   (True)\n",
    "\n",
    "    # Save the figure\n",
    "    plt.savefig(f\"../output_data/{outfile}\")\n",
    "\n",
    "    # Show plot\n",
    "    plt.show()\n"
   ]
  },
  {
   "cell_type": "code",
   "execution_count": 10,
   "metadata": {
    "scrolled": true
   },
   "outputs": [
    {
     "data": {
      "image/png": "[encoded data removed]",
      "text/plain": [
       "<Figure size 432x288 with 1 Axes>"
      ]
     },
     "metadata": {
      "needs_background": "light"
     },
     "output_type": "display_data"
    }
   ],
   "source": [
    "# Build a scatter plot for Latitude vs. Temperature\n",
    "\n",
    "# Save the data to create the scatter plot in a dictionary\n",
    "scatter_parms_dict =  { \"y_axis\"  : clean_city_data[\"Max temperature\"]\n",
    "                      , \"ylabel\"  : \"Max temperature\"\n",
    "                      , \"unit\"    : \"(F)\"\n",
    "                      , \"outfile\" : \"fig01_Latitude_vs_Temperature.png\"\n",
    "}\n",
    "\n",
    "# Call the function to create the scatter plot\n",
    "create_scatter_plot(scatter_parms_dict )"
   ]
  },
  {
   "cell_type": "markdown",
   "metadata": {},
   "source": [
    "## Latitude vs. Humidity Plot"
   ]
  },
  {
   "cell_type": "code",
   "execution_count": 11,
   "metadata": {},
   "outputs": [
    {
     "data": {
      "image/png": "[encoded data removed]",
      "text/plain": [
       "<Figure size 432x288 with 1 Axes>"
      ]
     },
     "metadata": {
      "needs_background": "light"
     },
     "output_type": "display_data"
    }
   ],
   "source": [
    "# Build a scatter plot for Latitude vs. Humidity \n",
    "\n",
    "# Save the data to create the scatter plot in a dictionary\n",
    "scatter_parms_dict =  { \"y_axis\"  : clean_city_data[\"Humidity\"]\n",
    "                      , \"ylabel\"  : \"Humidity\"\n",
    "                      , \"unit\"    : \"(%)\"\n",
    "                      , \"outfile\" : \"fig02_Latitude_vs_Humidity.png\"\n",
    "}\n",
    "\n",
    "# Call the function to create the scatter plot\n",
    "create_scatter_plot(scatter_parms_dict )"
   ]
  },
  {
   "cell_type": "markdown",
   "metadata": {},
   "source": [
    "## Latitude vs. Cloudiness Plot"
   ]
  },
  {
   "cell_type": "code",
   "execution_count": 12,
   "metadata": {},
   "outputs": [
    {
     "data": {
      "image/png": "[encoded data removed]",
      "text/plain": [
       "<Figure size 432x288 with 1 Axes>"
      ]
     },
     "metadata": {
      "needs_background": "light"
     },
     "output_type": "display_data"
    }
   ],
   "source": [
    "# Build a scatter plot for Latitude vs. Cloudiness \n",
    "\n",
    "# Save the data to create the scatter plot in a dictionary\n",
    "scatter_parms_dict =  { \"y_axis\"  : clean_city_data[\"Cloud coverage\"]\n",
    "                      , \"ylabel\"  : \"Cloudiness\"\n",
    "                      , \"unit\"    : \"(%)\"\n",
    "                      , \"outfile\" : \"fig03_Latitude_vs_Cloudiness.png\"\n",
    "}\n",
    "\n",
    "# Call the function to create the scatter plot\n",
    "create_scatter_plot(scatter_parms_dict )"
   ]
  },
  {
   "cell_type": "markdown",
   "metadata": {},
   "source": [
    "## Latitude vs. Wind Speed Plot"
   ]
  },
  {
   "cell_type": "code",
   "execution_count": 13,
   "metadata": {},
   "outputs": [
    {
     "data": {
      "image/png": "[encoded data removed]",
      "text/plain": [
       "<Figure size 432x288 with 1 Axes>"
      ]
     },
     "metadata": {
      "needs_background": "light"
     },
     "output_type": "display_data"
    }
   ],
   "source": [
    "# Build a scatter plot for Latitude vs. Wind speed \n",
    "\n",
    "# Save the data to create the scatter plot in a dictionary\n",
    "scatter_parms_dict =  { \"y_axis\"  : clean_city_data[\"Wind speed\"]\n",
    "                      , \"ylabel\"  : \"Wind Speed\"\n",
    "                      , \"unit\"    : \"(mph)\"\n",
    "                      , \"outfile\" : \"fig04_Latitude_vs_WindSpeed.png\"\n",
    "}\n",
    "\n",
    "# Call the function to create the scatter plot\n",
    "create_scatter_plot(scatter_parms_dict )"
   ]
  },
  {
   "cell_type": "markdown",
   "metadata": {},
   "source": [
    "## Linear Regression"
   ]
  },
  {
   "cell_type": "code",
   "execution_count": 14,
   "metadata": {},
   "outputs": [
    {
     "name": "stdout",
     "output_type": "stream",
     "text": [
      "Number of cities in northern_hemisphere: 378\n",
      "Number of cities in southern_hemisphere: 181\n"
     ]
    }
   ],
   "source": [
    "# Create a df of cities in Northern Hemisphere \n",
    "northern_hemisphere_df = clean_city_data.loc[ (clean_city_data[\"City latitude\"] >= 0 ) \n",
    "                                            ]\n",
    "\n",
    "# Create a df of cities in Southern Hemisphere \n",
    "southern_hemisphere_df = clean_city_data.loc[ (clean_city_data[\"City latitude\"] < 0 ) \n",
    "                                            ]\n",
    "print (f\"Number of cities in northern_hemisphere: {len(northern_hemisphere_df)}\")\n",
    "print (f\"Number of cities in southern_hemisphere: {len(southern_hemisphere_df)}\")"
   ]
  },
  {
   "cell_type": "code",
   "execution_count": 17,
   "metadata": {},
   "outputs": [],
   "source": [
    "# Define a function to create linear regression for a given hemisphere and y_axis vs Latitude \n",
    "def create_linear_regression(linear_regression_parms_dict):\n",
    "    \n",
    "    # Save the parms value from parms dict\n",
    "    hemisphere_loc = linear_regression_parms_dict.get(\"hemisphere_loc\")\n",
    "    x_values       = linear_regression_parms_dict.get(\"x_values\")\n",
    "    y_values       = linear_regression_parms_dict.get(\"y_values\")\n",
    "    ylabel         = linear_regression_parms_dict.get(\"ylabel\")\n",
    "    unit           = linear_regression_parms_dict.get(\"unit\")\n",
    "    annotatate_x   = linear_regression_parms_dict.get(\"annotatate_x\")  \n",
    "    annotatate_y   = linear_regression_parms_dict.get(\"annotatate_y\") \n",
    "    outfile        = linear_regression_parms_dict.get(\"outfile\")\n",
    "    \n",
    "    # Perform a linear regression on y_values vs. x_values\n",
    "    (slope, intercept, rvalue, pvalue, stderr) = linregress(x_values, y_values)\n",
    "\n",
    "    # Get regression values\n",
    "    regress_values = x_values * slope + intercept\n",
    "\n",
    "    # Create line equation string\n",
    "    line_eq = \"y = \" + str(round(slope,2)) + \"x + \" + str(round(intercept,2))\n",
    "\n",
    "    # Compare the calcualted Pearson's r to the plots\n",
    "    plt.scatter( x_values\n",
    "               , y_values\n",
    "               , color=\"blue\")\n",
    "\n",
    "    # Add the line regresssion to plot\n",
    "    plt.plot(x_values,regress_values,\"r-\")\n",
    "\n",
    "    # Annotate the line equation\n",
    "    plt.annotate(line_eq,(annotatate_x, annotatate_y),fontsize=10,color=\"red\")\n",
    "\n",
    "    # Set the title and x & y labels\n",
    "    xlabel = \"Latitude\"\n",
    "    plt.xlabel (f\"{xlabel}\")\n",
    "    plt.ylabel (f\"{ylabel} {unit}\")\n",
    "    plt.title  (f\"{hemisphere_loc} Hemisphere - {ylabel} {unit} vs. {xlabel}\")\n",
    "\n",
    "     # Print r value\n",
    "    print(f\"The r-value is: {rvalue**2}\")\n",
    "\n",
    "    # Save the figure \n",
    "    plt.savefig(f\"../output_data/{outfile}\")\n",
    "\n",
    "    # Show plot\n",
    "    plt.show()"
   ]
  },
  {
   "cell_type": "markdown",
   "metadata": {},
   "source": [
    "###  Max Temp vs. Latitude Linear Regression"
   ]
  },
  {
   "cell_type": "markdown",
   "metadata": {},
   "source": [
    "####  Northern Hemisphere - Max Temp vs. Latitude Linear Regression"
   ]
  },
  {
   "cell_type": "code",
   "execution_count": 18,
   "metadata": {},
   "outputs": [
    {
     "name": "stdout",
     "output_type": "stream",
     "text": [
      "The r-value is: 0.42216275357259914\n"
     ]
    },
    {
     "data": {
      "image/png": "[encoded data removed]",
      "text/plain": [
       "<Figure size 432x288 with 1 Axes>"
      ]
     },
     "metadata": {
      "needs_background": "light"
     },
     "output_type": "display_data"
    }
   ],
   "source": [
    "# Calculate the linear regression equation Northern Hemisphere - Temperature (F) vs. Latitude\n",
    "\n",
    "# Save the data to create the scatter plot in a dictionary\n",
    "linear_regression_parms_dict = { \"hemisphere_loc\" : \"Northern\"\n",
    "                               , \"x_values\"       : northern_hemisphere_df[\"City latitude\"]\n",
    "                               , \"y_values\"       : northern_hemisphere_df[\"Max temperature\"]\n",
    "                               , \"ylabel\"         : \"Max temperature\"\n",
    "                               , \"unit\"           : \"(F)\"\n",
    "                               , \"annotatate_x\"   : 20\n",
    "                               , \"annotatate_y\"   : 50\n",
    "                               , \"outfile\"        : \"fig05_Northern_Max_Temp_vs_Latitude.png\"                               \n",
    "}\n",
    "\n",
    "# Call the function to create the linear regression\n",
    "create_linear_regression(linear_regression_parms_dict )"
   ]
  },
  {
   "cell_type": "markdown",
   "metadata": {},
   "source": [
    "####  Southern Hemisphere - Max Temp vs. Latitude Linear Regression"
   ]
  },
  {
   "cell_type": "code",
   "execution_count": 19,
   "metadata": {},
   "outputs": [
    {
     "name": "stdout",
     "output_type": "stream",
     "text": [
      "The r-value is: 0.6248117041543457\n"
     ]
    },
    {
     "data": {
      "image/png": "[encoded data removed]",
      "text/plain": [
       "<Figure size 432x288 with 1 Axes>"
      ]
     },
     "metadata": {
      "needs_background": "light"
     },
     "output_type": "display_data"
    }
   ],
   "source": [
    "# Calculate the linear regression equation Southern Hemisphere - Max Temp vs. Latitude Linear Regression\n",
    "\n",
    "# Save the data to create the scatter plot in a dictionary\n",
    "linear_regression_parms_dict = { \"hemisphere_loc\" : \"Southern\"\n",
    "                               , \"x_values\"       : southern_hemisphere_df[\"City latitude\"]\n",
    "                               , \"y_values\"       : southern_hemisphere_df[\"Max temperature\"]\n",
    "                               , \"ylabel\"         : \"Max temperature\"\n",
    "                               , \"unit\"           : \"(F)\"\n",
    "                               , \"annotatate_x\"   : -25\n",
    "                               , \"annotatate_y\"   : 40\n",
    "                               , \"outfile\"        : \"fig06_Southern_Max_Temp_vs_Latitude.png\"\n",
    "                               \n",
    "}\n",
    "\n",
    "# Call the function to create the linear regression\n",
    "create_linear_regression(linear_regression_parms_dict )"
   ]
  },
  {
   "cell_type": "markdown",
   "metadata": {},
   "source": [
    "### Humidity (%) vs. Latitude Linear Regression"
   ]
  },
  {
   "cell_type": "markdown",
   "metadata": {},
   "source": [
    "####  Northern Hemisphere - Humidity (%) vs. Latitude Linear Regression"
   ]
  },
  {
   "cell_type": "code",
   "execution_count": 20,
   "metadata": {},
   "outputs": [
    {
     "name": "stdout",
     "output_type": "stream",
     "text": [
      "The r-value is: 4.099348057970714e-05\n"
     ]
    },
    {
     "data": {
      "image/png": "[encoded data removed]",
      "text/plain": [
       "<Figure size 432x288 with 1 Axes>"
      ]
     },
     "metadata": {
      "needs_background": "light"
     },
     "output_type": "display_data"
    }
   ],
   "source": [
    "# Calculate the linear regression equation Northern Hemisphere - Humidity (%) vs. Latitude Linear Regression\n",
    "\n",
    "# Save the data to create the scatter plot in a dictionary\n",
    "linear_regression_parms_dict = { \"hemisphere_loc\" : \"Northern\"\n",
    "                               , \"x_values\"       : northern_hemisphere_df[\"City latitude\"]\n",
    "                               , \"y_values\"       : northern_hemisphere_df[\"Humidity\"]\n",
    "                               , \"ylabel\"         : \"Humidity\"\n",
    "                               , \"unit\"           : \"(%)\"\n",
    "                               , \"annotatate_x\"   : 45\n",
    "                               , \"annotatate_y\"   : 20\n",
    "                               , \"outfile\"        : \"fig07_Northern_Humidity_vs_Latitude.png\"\n",
    "                               \n",
    "}\n",
    "\n",
    "# Call the function to create the linear regression\n",
    "create_linear_regression(linear_regression_parms_dict )"
   ]
  },
  {
   "cell_type": "markdown",
   "metadata": {},
   "source": [
    "####  Southern Hemisphere - Humidity (%) vs. Latitude Linear Regression"
   ]
  },
  {
   "cell_type": "code",
   "execution_count": 21,
   "metadata": {},
   "outputs": [
    {
     "name": "stdout",
     "output_type": "stream",
     "text": [
      "The r-value is: 0.012385027923732927\n"
     ]
    },
    {
     "data": {
      "image/png": "[encoded data removed]",
      "text/plain": [
       "<Figure size 432x288 with 1 Axes>"
      ]
     },
     "metadata": {
      "needs_background": "light"
     },
     "output_type": "display_data"
    }
   ],
   "source": [
    "# Calculate the linear regression equation Southern Hemisphere - Humidity (%) vs. Latitude Linear Regression\n",
    "\n",
    "# Save the data to create the scatter plot in a dictionary\n",
    "linear_regression_parms_dict = { \"hemisphere_loc\" : \"Southern\"\n",
    "                               , \"x_values\"       : southern_hemisphere_df[\"City latitude\"]\n",
    "                               , \"y_values\"       : southern_hemisphere_df[\"Humidity\"]\n",
    "                               , \"ylabel\"         : \"Humidity\"\n",
    "                               , \"unit\"           : \"(%)\"\n",
    "                               , \"annotatate_x\"   : -45\n",
    "                               , \"annotatate_y\"   : 35\n",
    "                               , \"outfile\"        : \"fig08_Southern_Humidity_vs_Latitude.png\"\n",
    "                               \n",
    "}\n",
    "\n",
    "# Call the function to create the linear regression\n",
    "create_linear_regression(linear_regression_parms_dict )"
   ]
  },
  {
   "cell_type": "markdown",
   "metadata": {},
   "source": [
    "### Cloudiness (%) vs. Latitude Linear Regression"
   ]
  },
  {
   "cell_type": "markdown",
   "metadata": {},
   "source": [
    "####  Northern Hemisphere - Cloudiness (%) vs. Latitude Linear Regression"
   ]
  },
  {
   "cell_type": "code",
   "execution_count": 22,
   "metadata": {},
   "outputs": [
    {
     "name": "stdout",
     "output_type": "stream",
     "text": [
      "The r-value is: 7.72338696715445e-05\n"
     ]
    },
    {
     "data": {
      "image/png": "[encoded data removed]",
      "text/plain": [
       "<Figure size 432x288 with 1 Axes>"
      ]
     },
     "metadata": {
      "needs_background": "light"
     },
     "output_type": "display_data"
    }
   ],
   "source": [
    "# Calculate the linear regression equation Northern Hemisphere - Cloudiness (%) vs. Latitude Linear Regression\n",
    "\n",
    "# Save the data to create the scatter plot in a dictionary\n",
    "linear_regression_parms_dict = { \"hemisphere_loc\" : \"Northern\"\n",
    "                               , \"x_values\"       : northern_hemisphere_df[\"City latitude\"]\n",
    "                               , \"y_values\"       : northern_hemisphere_df[\"Cloud coverage\"]\n",
    "                               , \"ylabel\"         : \"Cloudiness\"\n",
    "                               , \"unit\"           : \"(%)\"\n",
    "                               , \"annotatate_x\"   : 10\n",
    "                               , \"annotatate_y\"   : 25\n",
    "                               , \"outfile\"        : \"fig09_Northern_Cloudiness_vs_Latitude.png\"\n",
    "                               \n",
    "}\n",
    "\n",
    "# Call the function to create the linear regression\n",
    "create_linear_regression(linear_regression_parms_dict )"
   ]
  },
  {
   "cell_type": "markdown",
   "metadata": {},
   "source": [
    "####  Southern Hemisphere - Cloudiness (%) vs. Latitude Linear Regression"
   ]
  },
  {
   "cell_type": "code",
   "execution_count": 23,
   "metadata": {},
   "outputs": [
    {
     "name": "stdout",
     "output_type": "stream",
     "text": [
      "The r-value is: 0.031114765208831982\n"
     ]
    },
    {
     "data": {
      "image/png": "[encoded data removed]",
      "text/plain": [
       "<Figure size 432x288 with 1 Axes>"
      ]
     },
     "metadata": {
      "needs_background": "light"
     },
     "output_type": "display_data"
    }
   ],
   "source": [
    "# Calculate the linear regression equation Southern Hemisphere - Cloudiness (%) vs. Latitude Linear Regression\n",
    "\n",
    "# Save the data to create the scatter plot in a dictionary\n",
    "linear_regression_parms_dict = { \"hemisphere_loc\" : \"Southern\"\n",
    "                               , \"x_values\"       : southern_hemisphere_df[\"City latitude\"]\n",
    "                               , \"y_values\"       : southern_hemisphere_df[\"Cloud coverage\"]\n",
    "                               , \"ylabel\"         : \"Cloudiness\"\n",
    "                               , \"unit\"           : \"(%)\"\n",
    "                               , \"annotatate_x\"   : -50\n",
    "                               , \"annotatate_y\"   : 30\n",
    "                               , \"outfile\"        : \"fig10_Southern_Cloudiness_vs_Latitude.png\"\n",
    "                               \n",
    "}\n",
    "\n",
    "# Call the function to create the linear regression\n",
    "create_linear_regression(linear_regression_parms_dict )"
   ]
  },
  {
   "cell_type": "markdown",
   "metadata": {},
   "source": [
    "### Wind Speed (m/s) vs. Latitude Linear Regression"
   ]
  },
  {
   "cell_type": "markdown",
   "metadata": {},
   "source": [
    "####  Northern Hemisphere - Wind Speed (mph) vs. Latitude Linear Regression"
   ]
  },
  {
   "cell_type": "code",
   "execution_count": 24,
   "metadata": {},
   "outputs": [
    {
     "name": "stdout",
     "output_type": "stream",
     "text": [
      "The r-value is: 0.0005222040469116851\n"
     ]
    },
    {
     "data": {
      "image/png": "[encoded data removed]",
      "text/plain": [
       "<Figure size 432x288 with 1 Axes>"
      ]
     },
     "metadata": {
      "needs_background": "light"
     },
     "output_type": "display_data"
    }
   ],
   "source": [
    "# Calculate the linear regression equation Northern Hemisphere - Wind Speed (mph) vs. Latitude Linear Regression\n",
    "\n",
    "# Save the data to create the scatter plot in a dictionary\n",
    "linear_regression_parms_dict = { \"hemisphere_loc\" : \"Northern\"\n",
    "                               , \"x_values\"       : northern_hemisphere_df[\"City latitude\"]\n",
    "                               , \"y_values\"       : northern_hemisphere_df[\"Wind speed\"]\n",
    "                               , \"ylabel\"         : \"Wind speed\"\n",
    "                               , \"unit\"           : \"(mph)\"\n",
    "                               , \"annotatate_x\"   : 25\n",
    "                               , \"annotatate_y\"   : 20\n",
    "                               , \"outfile\"        : \"fig11_Northern_Wind_Speed_vs_Latitude.png\"\n",
    "                               \n",
    "}\n",
    "\n",
    "# Call the function to create the linear regression\n",
    "create_linear_regression(linear_regression_parms_dict )"
   ]
  },
  {
   "cell_type": "markdown",
   "metadata": {},
   "source": [
    "####  Southern Hemisphere - Wind Speed (mph) vs. Latitude Linear Regression"
   ]
  },
  {
   "cell_type": "code",
   "execution_count": 25,
   "metadata": {},
   "outputs": [
    {
     "name": "stdout",
     "output_type": "stream",
     "text": [
      "The r-value is: 0.0013689518267156467\n"
     ]
    },
    {
     "data": {
      "image/png": "[encoded data removed]",
      "text/plain": [
       "<Figure size 432x288 with 1 Axes>"
      ]
     },
     "metadata": {
      "needs_background": "light"
     },
     "output_type": "display_data"
    }
   ],
   "source": [
    "# Calculate the linear regression equation Southern Hemisphere - Wind Speed (mph) vs. Latitude Linear Regression\n",
    "\n",
    "# Save the data to create the scatter plot in a dictionary\n",
    "linear_regression_parms_dict = { \"hemisphere_loc\" : \"Southern\"\n",
    "                               , \"x_values\"       : southern_hemisphere_df[\"City latitude\"]\n",
    "                               , \"y_values\"       : southern_hemisphere_df[\"Wind speed\"]\n",
    "                               , \"ylabel\"         : \"Wind speed\"\n",
    "                               , \"unit\"           : \"(mph)\"\n",
    "                               , \"annotatate_x\"   : -40\n",
    "                               , \"annotatate_y\"   : 20\n",
    "                               , \"outfile\"        : \"fig12_Southern_Wind_Speed_vs_Latitude.png\"                              \n",
    "}\n",
    "\n",
    "# Call the function to create the linear regression\n",
    "create_linear_regression(linear_regression_parms_dict )"
   ]
  },
  {
   "cell_type": "code",
   "execution_count": null,
   "metadata": {},
   "outputs": [],
   "source": []
  },
  {
   "cell_type": "code",
   "execution_count": null,
   "metadata": {},
   "outputs": [],
   "source": []
  }
 ],
 "metadata": {
  "anaconda-cloud": {},
  "kernel_info": {
   "name": "python3"
  },
  "kernelspec": {
   "display_name": "Python [conda env:PythonData] *",
   "language": "python",
   "name": "conda-env-PythonData-py"
  },
  "language_info": {
   "codemirror_mode": {
    "name": "ipython",
    "version": 3
   },
   "file_extension": ".py",
   "mimetype": "text/x-python",
   "name": "python",
   "nbconvert_exporter": "python",
   "pygments_lexer": "ipython3",
   "version": "3.7.7"
  },
  "latex_envs": {
   "LaTeX_envs_menu_present": true,
   "autoclose": false,
   "autocomplete": true,
   "bibliofile": "biblio.bib",
   "cite_by": "apalike",
   "current_citInitial": 1,
   "eqLabelWithNumbers": true,
   "eqNumInitial": 1,
   "hotkeys": {
    "equation": "Ctrl-E",
    "itemize": "Ctrl-I"
   },
   "labels_anchors": false,
   "latex_user_defs": false,
   "report_style_numbering": false,
   "user_envs_cfg": false
  },
  "nteract": {
   "version": "0.12.3"
  }
 },
 "nbformat": 4,
 "nbformat_minor": 2
}
